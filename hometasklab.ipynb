{
 "cells": [
  {
   "cell_type": "markdown",
   "metadata": {},
   "source": [
    "**GAMA transformation **"
   ]
  },
  {
   "cell_type": "code",
   "execution_count": 9,
   "metadata": {},
   "outputs": [],
   "source": [
    "import cv2\n",
    "import math\n",
    "img = cv2.imread('lena.jpg')\n",
    "img_gray=cv2.cvtColor(img,cv2.COLOR_BGR2GRAY)"
   ]
  },
  {
   "cell_type": "code",
   "execution_count": 10,
   "metadata": {},
   "outputs": [
    {
     "name": "stdout",
     "output_type": "stream",
     "text": [
      "gamma value: 1.5\n"
     ]
    }
   ],
   "source": [
    "cv2.imshow(\"input\",img_gray)\n",
    "gamma=input(\"gamma value: \")\n",
    "gamma=float(gamma)"
   ]
  },
  {
   "cell_type": "code",
   "execution_count": 11,
   "metadata": {},
   "outputs": [
    {
     "data": {
      "text/plain": [
       "-1"
      ]
     },
     "execution_count": 11,
     "metadata": {},
     "output_type": "execute_result"
    }
   ],
   "source": [
    "for x in range (img_gray.shape[0]):\n",
    "    for y in range(img_gray.shape[1]):\n",
    "        inten=img_gray[x,y]\n",
    "        inten=inten/255\n",
    "        inten=pow(inten,gamma) * 255\n",
    "        img_gray[x,y]=inten\n",
    "        \n",
    "\n",
    "cv2.imshow(\"output\",img_gray)\n",
    "cv2.waitKey(0)"
   ]
  },
  {
   "cell_type": "markdown",
   "metadata": {},
   "source": [
    "\n",
    "**Contrast stretching **\n"
   ]
  },
  {
   "cell_type": "code",
   "execution_count": 12,
   "metadata": {},
   "outputs": [
    {
     "name": "stdout",
     "output_type": "stream",
     "text": [
      "r1: 112\n",
      "r2: 20\n",
      "s1: 220\n",
      "s2: 100\n"
     ]
    },
    {
     "data": {
      "text/plain": [
       "-1"
      ]
     },
     "execution_count": 12,
     "metadata": {},
     "output_type": "execute_result"
    }
   ],
   "source": [
    "import cv2 \n",
    "import math\n",
    "img = cv2.imread('lena.jpg')\n",
    "img_gray=cv2.cvtColor(img,cv2.COLOR_BGR2GRAY)\n",
    "cv2.imshow(\"input2\",img_gray)\n",
    "r1=input(\"r1: \")\n",
    "r1=int(r1)\n",
    "r2=input(\"r2: \")\n",
    "r2=int(r2)\n",
    "s1=input(\"s1: \")\n",
    "s1=int(s1)\n",
    "s2=input(\"s2: \")\n",
    "s2=int(s2)\n",
    "\n",
    "m1=s1/r1\n",
    "m2=(s1-s2)/(r1-r2)\n",
    "m3=(255-s2)/(255-r2)\n",
    "\n",
    "for x in range (img_gray.shape[0]):\n",
    "    for y in range(img_gray.shape[1]):\n",
    "        pixel=img_gray[x,y]\n",
    "        if img_gray[x,y] < r1:\n",
    "            img_gray[x,y] = m1 * img_gray[x,y]\n",
    "        elif img_gray[x,y] > r1 and img_gray[x,y] < r2:\n",
    "            img_gray[x,y] = m2 * (pixel-r1)+s1\n",
    "        else:\n",
    "            img_gray[x,y] = m3 * (pixel-r2)+s2\n",
    "\n",
    "cv2.imshow(\"output2\",img_gray)\n",
    "cv2.waitKey(0)            \n",
    "            "
   ]
  },
  {
   "cell_type": "code",
   "execution_count": null,
   "metadata": {},
   "outputs": [],
   "source": []
  }
 ],
 "metadata": {
  "kernelspec": {
   "display_name": "Python 3",
   "language": "python",
   "name": "python3"
  },
  "language_info": {
   "codemirror_mode": {
    "name": "ipython",
    "version": 3
   },
   "file_extension": ".py",
   "mimetype": "text/x-python",
   "name": "python",
   "nbconvert_exporter": "python",
   "pygments_lexer": "ipython3",
   "version": "3.7.1"
  }
 },
 "nbformat": 4,
 "nbformat_minor": 2
}
