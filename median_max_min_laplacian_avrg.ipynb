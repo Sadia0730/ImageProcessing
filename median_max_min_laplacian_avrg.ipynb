{
 "cells": [
  {
   "cell_type": "code",
   "execution_count": 37,
   "metadata": {},
   "outputs": [],
   "source": [
    "from matplotlib import pyplot as plt\n",
    "def show_img(img):\n",
    "    plt.imshow(img, cmap='gray')"
   ]
  },
  {
   "cell_type": "markdown",
   "metadata": {},
   "source": [
    "# median filter"
   ]
  },
  {
   "cell_type": "code",
   "execution_count": 1,
   "metadata": {},
   "outputs": [],
   "source": [
    "import cv2\n",
    "import numpy as np\n",
    "import matplotlib.pyplot as plt\n",
    "%matplotlib inline\n",
    "img = cv2.imread('noise.png')\n",
    "img=cv2.cvtColor(img,cv2.COLOR_BGR2GRAY)\n",
    "cv2.imshow(\"image\",img)\n",
    "\n",
    "width=img.shape[0]\n",
    "height=img.shape[1]\n",
    "w=1\n",
    "m=0\n",
    "for i in range(1,height-2):\n",
    "    for j in range(1,width-2):\n",
    "        neighbours=[]\n",
    "        for k in range(i-w,i+w+1):\n",
    "            for l in range(j-w,j+w+1):\n",
    "                a=img.item(k,l)\n",
    "                neighbours.append(a)\n",
    "        neighbours.sort()\n",
    "        median=neighbours[4]\n",
    "        b=median\n",
    "        img[i][j]=b\n",
    "        \n",
    "cv2.imshow(\"out\",img)\n",
    "cv2.waitKey(0)\n",
    "cv2.destroyAllWindows()       "
   ]
  },
  {
   "cell_type": "markdown",
   "metadata": {},
   "source": [
    "# min filter"
   ]
  },
  {
   "cell_type": "code",
   "execution_count": null,
   "metadata": {},
   "outputs": [],
   "source": [
    "import cv2\n",
    "import numpy as np\n",
    "import matplotlib.pyplot as plt\n",
    "%matplotlib inline\n",
    "im = cv2.imread('noise.png')\n",
    "im=cv2.cvtColor(im,cv2.COLOR_BGR2GRAY)\n",
    "cv2.imshow(\"image\",im)\n",
    "img=im.copy()\n",
    "\n",
    "width=img.shape[0]\n",
    "height=img.shape[1]\n",
    "w=1\n",
    "m=0\n",
    "for i in range(1,height-2):\n",
    "    for j in range(1,width-2):\n",
    "        min=255\n",
    "        \n",
    "        roi = im[i-w:i+w+1, j-w:j+w+1]\n",
    "        minval = roi.min()\n",
    "        img[i][j]=minval\n",
    "        \n",
    "cv2.imshow(\"out\",img)\n",
    "cv2.waitKey(0)\n",
    "cv2.destroyAllWindows()"
   ]
  },
  {
   "cell_type": "markdown",
   "metadata": {},
   "source": [
    "# maxfilter"
   ]
  },
  {
   "cell_type": "code",
   "execution_count": 3,
   "metadata": {},
   "outputs": [],
   "source": [
    "import cv2\n",
    "import numpy as np\n",
    "import matplotlib.pyplot as plt\n",
    "%matplotlib inline\n",
    "img = cv2.imread('noise.png')\n",
    "img=cv2.cvtColor(img,cv2.COLOR_BGR2GRAY)\n",
    "cv2.imshow(\"image\",img)\n",
    "\n",
    "width=img.shape[0]\n",
    "height=img.shape[1]\n",
    "w=1\n",
    "m=0\n",
    "for i in range(1,height-2):\n",
    "    for j in range(1,width-2):\n",
    "        max=0\n",
    "        for k in range(i-w,i+w+1):\n",
    "            for l in range(j-w,j+w+1):\n",
    "                a = im.item(k, l)\n",
    "                if a > max:\n",
    "                    max = a\n",
    "        b = max\n",
    "        img[i][j]=b\n",
    "        \n",
    "cv2.imshow(\"out\",img)\n",
    "cv2.waitKey(0)\n",
    "cv2.destroyAllWindows()"
   ]
  },
  {
   "cell_type": "markdown",
   "metadata": {},
   "source": [
    "# average"
   ]
  },
  {
   "cell_type": "code",
   "execution_count": 5,
   "metadata": {},
   "outputs": [],
   "source": [
    "import cv2\n",
    "import numpy as np\n",
    "import matplotlib.pyplot as plt\n",
    "%matplotlib inline\n",
    "im = cv2.imread('noise.png')\n",
    "im=cv2.cvtColor(im,cv2.COLOR_BGR2GRAY)\n",
    "cv2.imshow(\"image\",im)\n",
    "img=im.copy()\n",
    "width=img.shape[0]\n",
    "height=img.shape[1]\n",
    "w=1\n",
    "sum=0\n",
    "for i in range(1,height-2):\n",
    "    for j in range(1,width-2):\n",
    "        sum = 0\n",
    "        for k in range(i-w,i+w+1):\n",
    "            for l in range(j-w,j+w+1):\n",
    "                a = im.item(k, l)\n",
    "                sum = sum + a\n",
    "        avg=sum/9.0\n",
    "        img[i][j]=int(avg)\n",
    "        \n",
    "cv2.imshow(\"out\",img)\n",
    "cv2.waitKey(0)\n",
    "cv2.destroyAllWindows()"
   ]
  },
  {
   "cell_type": "markdown",
   "metadata": {},
   "source": [
    "# laplacian filter"
   ]
  },
  {
   "cell_type": "code",
   "execution_count": 5,
   "metadata": {},
   "outputs": [],
   "source": [
    "import cv2\n",
    "import numpy as np\n",
    "import matplotlib.pyplot as plt\n",
    "%matplotlib inline\n",
    "im = cv2.imread('lena.jpg')\n",
    "im=cv2.cvtColor(im,cv2.COLOR_BGR2GRAY)\n",
    "img = im.copy()\n",
    "cv2.imshow(\"image\",img)\n",
    "kernel=[[0,1,0],[1,-4,1],[0,1,0]]\n",
    "kernel = np.array(kernel)\n",
    "width=img.shape[0]\n",
    "height=img.shape[1]\n",
    "img = img/255\n",
    "w=1\n",
    "for i in range(1,height-2):\n",
    "    for j in range(1,width-2):\n",
    "        roi = im[i-w:i+w+1, j-w:j+w+1]\n",
    "        mul = roi*kernel\n",
    "        img[i][j]=mul.sum()\n",
    "\n",
    "img = img*255\n",
    "cv2.imshow(\"out\",img)\n",
    "cv2.waitKey(0)\n",
    "cv2.destroyAllWindows()             "
   ]
  },
  {
   "cell_type": "code",
   "execution_count": 3,
   "metadata": {},
   "outputs": [],
   "source": []
  },
  {
   "cell_type": "code",
   "execution_count": 4,
   "metadata": {},
   "outputs": [
    {
     "data": {
      "text/plain": [
       "[[0, 1, 0], [1, -4, 1], [0, 1, 0]]"
      ]
     },
     "execution_count": 4,
     "metadata": {},
     "output_type": "execute_result"
    }
   ],
   "source": [
    "kernel"
   ]
  },
  {
   "cell_type": "code",
   "execution_count": 5,
   "metadata": {},
   "outputs": [
    {
     "data": {
      "text/plain": [
       "list"
      ]
     },
     "execution_count": 5,
     "metadata": {},
     "output_type": "execute_result"
    }
   ],
   "source": [
    "type(kernel)"
   ]
  },
  {
   "cell_type": "code",
   "execution_count": 7,
   "metadata": {},
   "outputs": [
    {
     "data": {
      "text/plain": [
       "int"
      ]
     },
     "execution_count": 7,
     "metadata": {},
     "output_type": "execute_result"
    }
   ],
   "source": [
    "type(kernel[1][1])"
   ]
  },
  {
   "cell_type": "code",
   "execution_count": null,
   "metadata": {},
   "outputs": [],
   "source": []
  }
 ],
 "metadata": {
  "kernelspec": {
   "display_name": "Python 3",
   "language": "python",
   "name": "python3"
  },
  "language_info": {
   "codemirror_mode": {
    "name": "ipython",
    "version": 3
   },
   "file_extension": ".py",
   "mimetype": "text/x-python",
   "name": "python",
   "nbconvert_exporter": "python",
   "pygments_lexer": "ipython3",
   "version": "3.7.1"
  }
 },
 "nbformat": 4,
 "nbformat_minor": 2
}
